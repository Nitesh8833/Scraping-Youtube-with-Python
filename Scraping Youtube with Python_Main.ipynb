{
 "cells": [
  {
   "cell_type": "code",
   "execution_count": null,
   "id": "49eb5fa8",
   "metadata": {},
   "outputs": [],
   "source": [
    "pip install pytube3"
   ]
  },
  {
   "cell_type": "code",
   "execution_count": null,
   "id": "f41acee7",
   "metadata": {},
   "outputs": [],
   "source": [
    "pip install git+https://github.com/Zeecka/pytube@fix_1060#egg=pytube"
   ]
  },
  {
   "cell_type": "code",
   "execution_count": 1,
   "id": "f63dc952",
   "metadata": {},
   "outputs": [],
   "source": [
    "from pytube import YouTube"
   ]
  },
  {
   "cell_type": "code",
   "execution_count": 2,
   "id": "c757df7b",
   "metadata": {},
   "outputs": [
    {
     "name": "stdout",
     "output_type": "stream",
     "text": [
      "Enter Link of Youtube Video: \"https://youtu.be/JUXHz3iz9WA\"\n"
     ]
    }
   ],
   "source": [
    "link = input(\"Enter Link of Youtube Video: \")\n",
    "yt = YouTube(link)"
   ]
  },
  {
   "cell_type": "code",
   "execution_count": 3,
   "id": "d16c499e",
   "metadata": {},
   "outputs": [
    {
     "name": "stdout",
     "output_type": "stream",
     "text": [
      "Title : Dr.Vikas Divyakirti Sir With Wife🥰| UPSC 2.0\n",
      "Views : 5422159\n",
      "Duration : 15\n",
      "Description : Dr.Vikas Divyakirti Sir With Wife🥰| UPSC 2.0\n",
      "\n",
      "For complete UPSC course visit Drishti IAS official website all copyrights of this video belongs to Drishti IAS https://www.drishtiias.com/​ #UPSC2.0​ #Vikas_divyakirti_Hindi​ literature #Vikas_divyakirti_ethics​ #Vikas_divyakirti_UPSC​ #Sigmund_Freud​ #freud​ # love_with_mother #love_with_father​ #love​ with_daughter _love_with_son #Vikas_divyakirti_IASTags​: vikas divyakirti hindi literature, vikas divyakirti mock interview, vikas divyakirti debate, vikas divyakirti new video, vikas divyakirti all videos, vikas divyakirti article 370, vikas divyakirti and ravish kumar, vikas divyakirti all lecture, vikas divyakirti allahabad seminar, man ka pahla pyar, papa ka pahla pyar, putri ka pahla pyar, bete ka pahla pyar,vikas divyakirti answer writing, vikas divyakirti about, vikas divyakirti best speech, vikas divyakirti basic structure, vikas divyakirti books, vikash divyakriti biography, drishti ias vikas divyakirti biography, vikas divyakirti class, vikas divyakirti constitution, vikas divyakirti concept talk, kafan, munshi premchand, IAS, upsc, vikas divyakirti cadre, vikas divyakirti current affairs, vikas divyakirti comedy, vikas divyakirti case study, vikas divyakirti drishti ias, vikas divyakirti depression, vikas divyakirti dharmnirpekshta, vikas divyakirti daf 2, vikas divyakirti dhara 370, vikas divyakirti english, vikas divyakirti essay, vikas divyakirti emergency, vikas divyakirti ethics class, vikas divyakirti economics, vikas divyakirti ethics lecture, vikas divyakirti farewell, vikas divyakirti funny moments, dr vikas divyakirti ias form, vikas divyakirti 12 fail, vikas divyakirti gst lecture, gdp by vikas divyakirti, vikas divyakirti hindi, vikas divyakirti hindi class, vikas divyakirti hindi sahitya, vikas divyakirti hindi medium, vikas divyakirti history, vikas divyakirti hindi literature notes pdf, vikas divyakirti hindi literature class, vikas divyakirti jammu kashmir, vikas divyakirti josh talks, vikas divyakirti ki jivani, vikas divyakirti kesavananda bharati, vikas divyakirti latest video, farmer protests, Indian farmer, greta thunburg, mia khalifa, vikas divyakirti lecture polity, vikas divyakirti lecture hindi literature, vikas divyakirti lecture in english, vikas divyakirti latest lecture, vikas divyakirti motivational video, vikas divyakirti mains, vikas divyakirti muslim personal law, vikas divyakirti misa, vikas divyakirti manoj sharma, vikas divyakirti upsc, vikas\n",
      "vikas divyakirti,vikas divyakirti sir,vikas divyakirti funny moments,dr. vikas divyakirti,vikas divyakirti sir funny video,vikas divyakirti sir motivational video,vikas divyakirti constitution,divyakirti sir,drishti ias vikas divyakirti,vikas divyakirti video,vikas divyakirti concept talk,vikas divyakirti comedy,vision ias,vikas divyakirti rstv,vikas divyakirti ravish kumar,vikash diwyakirti sir,dristi ias vikas divyakirti,vikas divyakirti drishti ias,vikas divyakirti class\n",
      "Ratings : None\n"
     ]
    }
   ],
   "source": [
    "# To print title\n",
    "print(\"Title :\", yt.title)\n",
    "# To get number of views\n",
    "print(\"Views :\", yt.views)\n",
    "# To get the length of video\n",
    "print(\"Duration :\", yt.length)\n",
    "# To get description\n",
    "print(\"Description :\", yt.description)\n",
    "# To get ratings\n",
    "print(\"Ratings :\", yt.rating)"
   ]
  },
  {
   "cell_type": "code",
   "execution_count": 4,
   "id": "c74eecb5",
   "metadata": {},
   "outputs": [
    {
     "name": "stdout",
     "output_type": "stream",
     "text": [
      "Download completed!!\n"
     ]
    }
   ],
   "source": [
    "stream = yt.streams.get_highest_resolution()\n",
    "stream.download()\n",
    "print(\"Download completed!!\")"
   ]
  }
 ],
 "metadata": {
  "kernelspec": {
   "display_name": "Python 3",
   "language": "python",
   "name": "python3"
  },
  "language_info": {
   "codemirror_mode": {
    "name": "ipython",
    "version": 3
   },
   "file_extension": ".py",
   "mimetype": "text/x-python",
   "name": "python",
   "nbconvert_exporter": "python",
   "pygments_lexer": "ipython3",
   "version": "3.8.8"
  }
 },
 "nbformat": 4,
 "nbformat_minor": 5
}
